{
  "cells": [
    {
      "cell_type": "code",
      "execution_count": null,
      "metadata": {
        "deletable": false,
        "editable": false,
        "id": "VawneELpvvw9"
      },
      "outputs": [],
      "source": [
        "# Initialize Otter\n",
        "import otter\n",
        "grader = otter.Notebook(\"DSA_2023_Entry.ipynb\")"
      ]
    },
    {
      "cell_type": "code",
      "execution_count": null,
      "metadata": {
        "id": "XctPyHlkvvxA"
      },
      "outputs": [],
      "source": []
    },
    {
      "cell_type": "markdown",
      "metadata": {
        "id": "B1DroRwx3ENZ"
      },
      "source": [
        "## DSA 2023 Summer School Admittance Check\n",
        "\n",
        "Thanks for your interest in attending DSA Kigali 2023. To attend the summer school you have to have some level of basic Python proficiency. Completing the following notebook should ensure you have the right kind of background to benefit maximally from the Summer School. See you in Kigali!"
      ]
    },
    {
      "cell_type": "code",
      "execution_count": null,
      "metadata": {
        "id": "7Upwjh9U3ENa"
      },
      "outputs": [],
      "source": [
        "# Run these once ... Just in case \n",
        "#!pip install nose \n",
        "#!pip install otter-grader\n",
        "import IPython\n",
        "from IPython import get_ipython\n",
        "# Import the good stuff\n",
        "import pandas as pd\n",
        "import numpy as np\n",
        "import math\n",
        "from nose.tools import assert_equal\n",
        "import otter\n",
        "grader = otter.Notebook()"
      ]
    },
    {
      "cell_type": "markdown",
      "metadata": {
        "id": "6ibmmx8r3ENc"
      },
      "source": [
        "**Question 1:** Write a Python function to return a tuple of primes and non primes given an integer input "
      ]
    },
    {
      "cell_type": "code",
      "execution_count": null,
      "metadata": {
        "id": "CWjGPqaO3ENc",
        "tags": [],
        "outputId": "6b2b948b-69c8-487a-9927-2532ff0882f6"
      },
      "outputs": [
        {
          "name": "stdout",
          "output_type": "stream",
          "text": [
            "Following are the prime and non prime numbers smaller than or equal to 30\n",
            "((2, 3, 5, 7, 11, 13, 17, 19, 23, 29), (4, 6, 8, 9, 10, 12, 14, 15, 16, 18, 20, 21, 22, 24, 25, 26, 27, 28, 30))\n"
          ]
        }
      ],
      "source": [
        "def sieve(num):\n",
        "    prime=()\n",
        "    no_prime=()\n",
        "    for i in range(2,num+1):\n",
        "        count=0\n",
        "        for j in range(i,0,-1):\n",
        "            if i%j==0:\n",
        "                count=count+1\n",
        "        if count==2:\n",
        "            prime=prime+(i,)\n",
        "        else:\n",
        "            no_prime=no_prime+(i,)\n",
        "    return tuple((prime,no_prime))    \n",
        "num = 30\n",
        "print(\"Following are the prime and non prime numbers smaller than or equal to\", num)\n",
        "print(sieve(num))"
      ]
    },
    {
      "cell_type": "code",
      "execution_count": null,
      "metadata": {
        "deletable": false,
        "editable": false,
        "id": "kXzRyYbKvvxO",
        "outputId": "372bd31f-30e9-4096-9548-c611a06fa533"
      },
      "outputs": [
        {
          "data": {
            "text/html": [
              "<p><strong><pre style='display: inline;'>q1</pre></strong> passed! 🎉</p>"
            ],
            "text/plain": [
              "q1 results: All test cases passed!"
            ]
          },
          "execution_count": 4,
          "metadata": {},
          "output_type": "execute_result"
        }
      ],
      "source": [
        "grader.check(\"q1\")"
      ]
    },
    {
      "cell_type": "markdown",
      "metadata": {
        "id": "ntYqVxEQ3ENd"
      },
      "source": [
        "**Question 2:** Create a dictionary to store the type and number of unique characters in the paragraph provided"
      ]
    },
    {
      "cell_type": "code",
      "execution_count": null,
      "metadata": {
        "id": "LlZ8GC4J3ENe",
        "tags": [],
        "outputId": "31891d1e-0bae-43af-8112-065c62553600"
      },
      "outputs": [
        {
          "name": "stdout",
          "output_type": "stream",
          "text": [
            "{'T': 3, 'h': 17, 'e': 89, ' ': 192, 'f': 26, 'o': 68, 'l': 35, 'w': 16, 'i': 60, 'n': 42, 'g': 14, 's': 57, 'a': 48, 'm': 20, 'p': 11, 't': 65, 'x': 3, 'I': 1, 'u': 26, 'd': 27, 'r': 45, 'c': 31, 'k': 9, 'y': 19, 'b': 11, '.': 12, ':': 2, '1': 11, '2': 10, '3': 13, '4': 5, '5': 3, '6': 3, '7': 10, '8': 3, '9': 2, 'S': 2, 'V': 1, '’': 3, '0': 22, ',': 7, '(': 3, ')': 3, 'q': 3, 'A': 2, 'v': 4, 'F': 1, '-': 4, '{': 2, '}': 2, 'O': 3, '[': 1, ']': 1, 'W': 1, '<': 1, 'N': 1, '>': 1, '`': 2, '*': 4, '^': 4, '“': 1, '”': 1, '‘': 1, 'E': 1, '/': 1, '\\\\': 1}\n"
          ]
        }
      ],
      "source": [
        "paragraph = \"The following is sample text I used to practice special characters using keybr.com: 112233445566778899 Saturn V rocket’s first stage carries 203,400 gallons (770,000 liters) of kerosene fuel and 318,000 gallons (1.2 million liters) of liquid oxygen needed for combustion. At liftoff, the stage’s five F-1 rocket engines ignite and produce 7.5 million pounds of thrust. To replace those goofy quantities with the far less retarded metric system (even though liters are considered part of the metric system they are the same as cubic deci-meters) you would say 770 cubic meters of kerosene {abbreviated as m3} and 1,204 m3 of liquid O2 [O2 is the symbol for oxygen]. We would also say it produced 33,600,000 newtons of force <abbreviated as N>. To add scientific notation {a way of writing numbers that allows you to write only as many digits `of specificity` as you would like} you can write 7.7 * 10 ^ 2 m3 of kerosene 1.204 * 10 ^ 3 m3 of O2 and 3.3 * 10 ^ 7 newtons. Another way to write scientific notation is to replace the “* 10 ^” with ‘E’ -/capital e\\-. So our numbers would look like:s\"\n",
        "dictionary = {}\n",
        "for char in paragraph:\n",
        "\n",
        "    if char in dictionary:\n",
        "        dictionary[char] += 1\n",
        "    else:\n",
        "        dictionary[char] = 1\n",
        "\n",
        "\n",
        "print(dictionary)"
      ]
    },
    {
      "cell_type": "code",
      "execution_count": null,
      "metadata": {
        "deletable": false,
        "editable": false,
        "id": "0RHtB1orvvxQ",
        "outputId": "46918b64-e440-4ed2-b990-2e462ee53da3"
      },
      "outputs": [
        {
          "data": {
            "text/html": [
              "<p><strong><pre style='display: inline;'>q2</pre></strong> passed! 🎉</p>"
            ],
            "text/plain": [
              "q2 results: All test cases passed!"
            ]
          },
          "execution_count": 28,
          "metadata": {},
          "output_type": "execute_result"
        }
      ],
      "source": [
        "grader.check(\"q2\")"
      ]
    },
    {
      "cell_type": "markdown",
      "metadata": {
        "id": "ylvPVW8m3ENe"
      },
      "source": [
        "**Question 3:** Extract the values from the dictionary above into a list"
      ]
    },
    {
      "cell_type": "code",
      "execution_count": null,
      "metadata": {
        "id": "I50ccd1SJMn4",
        "tags": [],
        "outputId": "c0b69bc9-e4f2-44ff-945a-b1a848837870"
      },
      "outputs": [
        {
          "name": "stdout",
          "output_type": "stream",
          "text": [
            "['T', 'h', 'e', ' ', 'f', 'o', 'l', 'w', 'i', 'n', 'g', 's', 'a', 'm', 'p', 't', 'x', 'I', 'u', 'd', 'r', 'c', 'k', 'y', 'b', '.', ':', '1', '2', '3', '4', '5', '6', '7', '8', '9', 'S', 'V', '’', '0', ',', '(', ')', 'q', 'A', 'v', 'F', '-', '{', '}', 'O', '[', ']', 'W', '<', 'N', '>', '`', '*', '^', '“', '”', '‘', 'E', '/', '\\\\']\n"
          ]
        }
      ],
      "source": [
        "keysList=list(dictionary.keys())\n",
        "print (keysList)"
      ]
    },
    {
      "cell_type": "code",
      "execution_count": null,
      "metadata": {
        "deletable": false,
        "editable": false,
        "id": "7MNfse-PvvxR",
        "outputId": "9e41dcb5-db60-4a93-e4f4-a52a608b8dfb"
      },
      "outputs": [
        {
          "data": {
            "text/html": [
              "<p><strong><pre style='display: inline;'>q3</pre></strong> passed! 🌟</p>"
            ],
            "text/plain": [
              "q3 results: All test cases passed!"
            ]
          },
          "execution_count": 30,
          "metadata": {},
          "output_type": "execute_result"
        }
      ],
      "source": [
        "grader.check(\"q3\")"
      ]
    },
    {
      "cell_type": "markdown",
      "metadata": {
        "id": "hucvAvprJMn5"
      },
      "source": [
        "**Question 4:** Extract the keys from the dictionary above into a list"
      ]
    },
    {
      "cell_type": "code",
      "execution_count": null,
      "metadata": {
        "id": "wLHoBNERJMn5",
        "tags": [],
        "outputId": "5568df77-a82c-4878-8e16-ae0944e878bf"
      },
      "outputs": [
        {
          "name": "stdout",
          "output_type": "stream",
          "text": [
            "[3, 17, 89, 192, 26, 68, 35, 16, 60, 42, 14, 57, 48, 20, 11, 65, 3, 1, 26, 27, 45, 31, 9, 19, 11, 12, 2, 11, 10, 13, 5, 3, 3, 10, 3, 2, 2, 1, 3, 22, 7, 3, 3, 3, 2, 4, 1, 4, 2, 2, 3, 1, 1, 1, 1, 1, 1, 2, 4, 4, 1, 1, 1, 1, 1, 1]\n"
          ]
        }
      ],
      "source": [
        "valuesList=list(dictionary.values())\n",
        "print (valuesList)"
      ]
    },
    {
      "cell_type": "code",
      "execution_count": null,
      "metadata": {
        "deletable": false,
        "editable": false,
        "id": "vYl25e_TvvxS",
        "outputId": "50cac43b-e9eb-48d1-dab6-e9249254778b"
      },
      "outputs": [
        {
          "data": {
            "text/html": [
              "<p><strong><pre style='display: inline;'>q4</pre></strong> passed! ✨</p>"
            ],
            "text/plain": [
              "q4 results: All test cases passed!"
            ]
          },
          "execution_count": 32,
          "metadata": {},
          "output_type": "execute_result"
        }
      ],
      "source": [
        "grader.check(\"q4\")"
      ]
    },
    {
      "cell_type": "markdown",
      "metadata": {
        "id": "9PpnMsGpJMn5"
      },
      "source": [
        "**Question 5:** Merge the two lists into a tuple"
      ]
    },
    {
      "cell_type": "code",
      "execution_count": null,
      "metadata": {
        "id": "1E88mqTmvvxS"
      },
      "outputs": [],
      "source": []
    },
    {
      "cell_type": "code",
      "execution_count": null,
      "metadata": {
        "id": "UDWWh3vQJMn5",
        "tags": [],
        "outputId": "47c6e0b8-a1a6-421b-cd22-3b1b73b12495"
      },
      "outputs": [
        {
          "name": "stdout",
          "output_type": "stream",
          "text": [
            "(('T', 'h', 'e', ' ', 'f', 'o', 'l', 'w', 'i', 'n', 'g', 's', 'a', 'm', 'p', 't', 'x', 'I', 'u', 'd', 'r', 'c', 'k', 'y', 'b', '.', ':', '1', '2', '3', '4', '5', '6', '7', '8', '9', 'S', 'V', '’', '0', ',', '(', ')', 'q', 'A', 'v', 'F', '-', '{', '}', 'O', '[', ']', 'W', '<', 'N', '>', '`', '*', '^', '“', '”', '‘', 'E', '/', '\\\\'), (3, 17, 89, 192, 26, 68, 35, 16, 60, 42, 14, 57, 48, 20, 11, 65, 3, 1, 26, 27, 45, 31, 9, 19, 11, 12, 2, 11, 10, 13, 5, 3, 3, 10, 3, 2, 2, 1, 3, 22, 7, 3, 3, 3, 2, 4, 1, 4, 2, 2, 3, 1, 1, 1, 1, 1, 1, 2, 4, 4, 1, 1, 1, 1, 1, 1))\n"
          ]
        }
      ],
      "source": [
        "final_tuple=tuple(list((tuple(keysList),tuple(valuesList))))\n",
        "print(final_tuple)"
      ]
    },
    {
      "cell_type": "code",
      "execution_count": null,
      "metadata": {
        "deletable": false,
        "editable": false,
        "id": "J5wLtfqWvvxT",
        "outputId": "b8e77df3-5f89-4afa-b6ef-7f44926e3d73"
      },
      "outputs": [
        {
          "data": {
            "text/html": [
              "<p><strong><pre style='display: inline;'>q5</pre></strong> passed! 💯</p>"
            ],
            "text/plain": [
              "q5 results: All test cases passed!"
            ]
          },
          "execution_count": 48,
          "metadata": {},
          "output_type": "execute_result"
        }
      ],
      "source": [
        "grader.check(\"q5\")"
      ]
    },
    {
      "cell_type": "markdown",
      "metadata": {
        "id": "Wj777_aVvvxT"
      },
      "source": [
        "**Question 6:**  Write a function `greatest_common_divisor` that takes two inputs `a` and `b` and returns the greatest common divisor of the two numbers. E.g. input `(10, 15)` would return `5`"
      ]
    },
    {
      "cell_type": "code",
      "execution_count": null,
      "metadata": {
        "tags": [],
        "id": "G8eyuO_hvvxT"
      },
      "outputs": [],
      "source": [
        "def greatest_common_divisor(a, b):\n",
        "    if(b == 0):\n",
        "        return a\n",
        "    else:\n",
        "        return greatest_common_divisor(b, a % b)"
      ]
    },
    {
      "cell_type": "code",
      "execution_count": null,
      "metadata": {
        "deletable": false,
        "editable": false,
        "id": "pc2ZLo23vvxT",
        "outputId": "4ec161e0-e0ce-47a5-da0a-024890479ccd"
      },
      "outputs": [
        {
          "data": {
            "text/html": [
              "<p><strong><pre style='display: inline;'>q6</pre></strong> passed! 🌟</p>"
            ],
            "text/plain": [
              "q6 results: All test cases passed!"
            ]
          },
          "execution_count": 52,
          "metadata": {},
          "output_type": "execute_result"
        }
      ],
      "source": [
        "grader.check(\"q6\")"
      ]
    },
    {
      "cell_type": "markdown",
      "metadata": {
        "id": "VeyKOky6vvxU"
      },
      "source": [
        "**Question 7:**  Write a function `get_nearest_farthest` that takes in a point of interest (pt) and a list of points and returns the nearest point and the farthest point from the point of interest."
      ]
    },
    {
      "cell_type": "code",
      "execution_count": null,
      "metadata": {
        "tags": [],
        "id": "gH22znAJvvxU"
      },
      "outputs": [],
      "source": [
        "def get_nearest_farthest(pt, ptlist):\n",
        "    dist_list=[]\n",
        "    for a in ptlist:\n",
        "        d=np.sqrt((pt[0]-a[0])**2+(pt[1]-a[1])**2)\n",
        "        dist_list.append(d)\n",
        "    mn=np.argmin(dist_list)\n",
        "    mx=np.argmax(dist_list)\n",
        "    return ptlist[mn],ptlist[mx]"
      ]
    },
    {
      "cell_type": "code",
      "execution_count": null,
      "metadata": {
        "id": "MYWqVUzuvvxU",
        "outputId": "35f44104-ac70-441b-d148-11fe7ed77033"
      },
      "outputs": [
        {
          "data": {
            "text/plain": [
              "((7, 6), (9, 3))"
            ]
          },
          "execution_count": 61,
          "metadata": {},
          "output_type": "execute_result"
        }
      ],
      "source": [
        "get_nearest_farthest((3, 8), [(9, 3), (8,5), (7,6)])"
      ]
    },
    {
      "cell_type": "code",
      "execution_count": null,
      "metadata": {
        "deletable": false,
        "editable": false,
        "id": "FYXV7gJ6vvxU",
        "outputId": "5a8e5ff0-b244-43bb-fa1c-d1efababe82d"
      },
      "outputs": [
        {
          "data": {
            "text/html": [
              "<p><strong><pre style='display: inline;'>q7</pre></strong> passed! 🎉</p>"
            ],
            "text/plain": [
              "q7 results: All test cases passed!"
            ]
          },
          "execution_count": 62,
          "metadata": {},
          "output_type": "execute_result"
        }
      ],
      "source": [
        "grader.check(\"q7\")"
      ]
    },
    {
      "cell_type": "markdown",
      "metadata": {
        "id": "5APCrqjHvvxV"
      },
      "source": [
        "**Question 8:**  Write a function `perfectly_divisible` to return a list of numbers between 0 and a number $N$ that are perfectly divisible by $q$ (with out leaving a remainder). <br>\n",
        "**Hint**: $N$ should also be inclusive in the numbers being considered. If N is negative use N == 20"
      ]
    },
    {
      "cell_type": "code",
      "execution_count": null,
      "metadata": {
        "tags": [],
        "id": "oupGo9sBvvxV"
      },
      "outputs": [],
      "source": [
        "def perfectly_divisible(N, q):\n",
        "    numbers=[]\n",
        "    for i in range(0,N+1):\n",
        "        if i%q==0:\n",
        "            numbers.append(i)\n",
        "    return numbers"
      ]
    },
    {
      "cell_type": "code",
      "execution_count": null,
      "metadata": {
        "deletable": false,
        "editable": false,
        "id": "staInRewvvxV",
        "outputId": "1f7d6feb-759a-476f-955a-5d17d32b8227"
      },
      "outputs": [
        {
          "data": {
            "text/html": [
              "<p><strong><pre style='display: inline;'>q8</pre></strong> passed! 🚀</p>"
            ],
            "text/plain": [
              "q8 results: All test cases passed!"
            ]
          },
          "execution_count": 64,
          "metadata": {},
          "output_type": "execute_result"
        }
      ],
      "source": [
        "grader.check(\"q8\")"
      ]
    },
    {
      "cell_type": "markdown",
      "metadata": {
        "id": "cntpBJy_vvxV"
      },
      "source": [
        "**Question 9:**  Write a function `flatten_lists` that takes in a list of lists and outputs a sorted list of elements of sublists of the input list (confusing right?) <br>\n",
        "Example: given `flatten_lists([[2,13,44], [6,7]])` it should return `[2,6,7,13,44]`"
      ]
    },
    {
      "cell_type": "code",
      "execution_count": null,
      "metadata": {
        "id": "X3FIUBGwvvxV",
        "outputId": "9aa6a3e2-ee03-4e42-cc7c-8878c85093ab"
      },
      "outputs": [
        {
          "data": {
            "text/plain": [
              "[2, 6, 7, 13, 44]"
            ]
          },
          "execution_count": 75,
          "metadata": {},
          "output_type": "execute_result"
        }
      ],
      "source": [
        "flatten_lists([[2,13,44], [6,7]])"
      ]
    },
    {
      "cell_type": "code",
      "execution_count": null,
      "metadata": {
        "tags": [],
        "id": "lmGXaGPavvxW"
      },
      "outputs": [],
      "source": [
        "def flatten_lists(superlist):\n",
        "    s=superlist[0]\n",
        "    for i in range(1,len(superlist)):\n",
        "        s=s+superlist[i]\n",
        "    return sorted(s)"
      ]
    },
    {
      "cell_type": "code",
      "execution_count": null,
      "metadata": {
        "deletable": false,
        "editable": false,
        "id": "YSkDtaMzvvxW",
        "outputId": "32ef35cd-a4fb-4f88-e8ea-3dd03ba5fdce"
      },
      "outputs": [
        {
          "data": {
            "text/html": [
              "<p><strong><pre style='display: inline;'>q9</pre></strong> passed! 🌈</p>"
            ],
            "text/plain": [
              "q9 results: All test cases passed!"
            ]
          },
          "execution_count": 76,
          "metadata": {},
          "output_type": "execute_result"
        }
      ],
      "source": [
        "grader.check(\"q9\")"
      ]
    },
    {
      "cell_type": "markdown",
      "metadata": {
        "id": "cjGloFGxvvxW"
      },
      "source": [
        "**The Extra Mile!** "
      ]
    },
    {
      "cell_type": "markdown",
      "metadata": {
        "id": "_egf664jJMn5"
      },
      "source": [
        "**Download the dataset \"Nakuru Sensor Data for February 2023 from https://open.africa/dataset/sensorsafrica-airquality-archive-nakuru/resource/14165682-37dd-4f40-914e-eb24619e4ef8\"**\n",
        "\n",
        "Load the 'timestamp','value_type' and 'value' collumns into a pandas dataframe "
      ]
    },
    {
      "cell_type": "code",
      "execution_count": null,
      "metadata": {
        "id": "r2lE0yrPJMn5",
        "outputId": "9cfcd41b-f903-4b55-8a96-ecd45c7f017d"
      },
      "outputs": [
        {
          "name": "stdout",
          "output_type": "stream",
          "text": [
            "                              timestamp   value_type  value\n",
            "0      2023-02-04T04:22:51.323124+00:00     humidity    100\n",
            "1      2023-02-04T04:22:51.323124+00:00  temperature     12\n",
            "2      2023-02-04T04:22:51.323125+00:00           P2     27\n",
            "3      2023-02-04T04:22:51.323125+00:00           P1     59\n",
            "4      2023-02-04T04:25:32.354784+00:00     humidity    100\n",
            "...                                 ...          ...    ...\n",
            "42985  2023-02-24T07:51:55.687329+00:00  temperature     27\n",
            "42986  2023-02-24T07:54:35.530536+00:00     humidity     59\n",
            "42987  2023-02-24T07:54:35.530536+00:00  temperature     27\n",
            "42988  2023-02-24T07:54:35.530545+00:00           P2      0\n",
            "42989  2023-02-24T07:54:35.530545+00:00           P1      0\n",
            "\n",
            "[42990 rows x 3 columns]\n"
          ]
        }
      ],
      "source": [
        "import pandas as pd\n",
        "from functools import reduce\n",
        "\n",
        "#Load the 'timestamp','value_type' and 'value' collumns into a pandas dataframe \n",
        "\n",
        "df = pd.read_csv('Nakuru_Sensor_Data_Feb_2023.csv',delimiter=';',usecols=['timestamp','value_type','value'])\n",
        "\n",
        "print(df)"
      ]
    },
    {
      "cell_type": "code",
      "execution_count": null,
      "metadata": {
        "id": "duBRnhkdvvxX",
        "outputId": "cdfba082-4154-4fb9-f130-7998c65b8cb7"
      },
      "outputs": [
        {
          "name": "stdout",
          "output_type": "stream",
          "text": [
            "<class 'pandas.core.frame.DataFrame'>\n",
            "RangeIndex: 42990 entries, 0 to 42989\n",
            "Data columns (total 3 columns):\n",
            " #   Column      Non-Null Count  Dtype              \n",
            "---  ------      --------------  -----              \n",
            " 0   timestamp   42990 non-null  datetime64[ns, UTC]\n",
            " 1   value_type  42990 non-null  object             \n",
            " 2   value       42990 non-null  int64              \n",
            "dtypes: datetime64[ns, UTC](1), int64(1), object(1)\n",
            "memory usage: 1007.7+ KB\n"
          ]
        }
      ],
      "source": [
        "df.info()"
      ]
    },
    {
      "cell_type": "markdown",
      "metadata": {
        "id": "Er6lemMeJMn5"
      },
      "source": [
        "**Question E1:** Create a new collumn 'timestamp_new' from 'timestamp' rounded off to the second "
      ]
    },
    {
      "cell_type": "code",
      "execution_count": null,
      "metadata": {
        "id": "sQq3JIaVJMn5",
        "tags": [],
        "outputId": "ef76a55d-2709-4229-c037-0a9dea06e19f"
      },
      "outputs": [
        {
          "name": "stdout",
          "output_type": "stream",
          "text": [
            "                             timestamp   value_type  value  \\\n",
            "0     2023-02-04 04:22:51.323124+00:00     humidity    100   \n",
            "1     2023-02-04 04:22:51.323124+00:00  temperature     12   \n",
            "2     2023-02-04 04:22:51.323125+00:00           P2     27   \n",
            "3     2023-02-04 04:22:51.323125+00:00           P1     59   \n",
            "4     2023-02-04 04:25:32.354784+00:00     humidity    100   \n",
            "...                                ...          ...    ...   \n",
            "42985 2023-02-24 07:51:55.687329+00:00  temperature     27   \n",
            "42986 2023-02-24 07:54:35.530536+00:00     humidity     59   \n",
            "42987 2023-02-24 07:54:35.530536+00:00  temperature     27   \n",
            "42988 2023-02-24 07:54:35.530545+00:00           P2      0   \n",
            "42989 2023-02-24 07:54:35.530545+00:00           P1      0   \n",
            "\n",
            "                  timestamp_new  \n",
            "0     2023-02-04 04:22:51+00:00  \n",
            "1     2023-02-04 04:22:51+00:00  \n",
            "2     2023-02-04 04:22:51+00:00  \n",
            "3     2023-02-04 04:22:51+00:00  \n",
            "4     2023-02-04 04:25:32+00:00  \n",
            "...                         ...  \n",
            "42985 2023-02-24 07:51:56+00:00  \n",
            "42986 2023-02-24 07:54:36+00:00  \n",
            "42987 2023-02-24 07:54:36+00:00  \n",
            "42988 2023-02-24 07:54:36+00:00  \n",
            "42989 2023-02-24 07:54:36+00:00  \n",
            "\n",
            "[42990 rows x 4 columns]\n"
          ]
        }
      ],
      "source": [
        "df[[\"timestamp\"]] = df[[\"timestamp\"]].apply(pd.to_datetime)\n",
        "df['timestamp_new']=df.timestamp.dt.round('1s')\n",
        "\n",
        "print(df)"
      ]
    },
    {
      "cell_type": "markdown",
      "metadata": {
        "id": "_HM8DysCJMn6"
      },
      "source": [
        "**Question E2:** Split the dataframe based on the 'value_type' column"
      ]
    },
    {
      "cell_type": "code",
      "execution_count": null,
      "metadata": {
        "id": "z3NUYMOZJMn6",
        "tags": []
      },
      "outputs": [],
      "source": [
        "grouped = df.groupby('value_type')\n",
        "df_temperature =list(grouped)[3][1]\n",
        "df_humidity = list(grouped)[2][1]\n",
        "df_P1 = list(grouped)[0][1]\n",
        "df_P2 = list(grouped)[1][1]"
      ]
    },
    {
      "cell_type": "code",
      "execution_count": null,
      "metadata": {
        "id": "lBIzrTvtvvxY"
      },
      "outputs": [],
      "source": []
    },
    {
      "cell_type": "markdown",
      "metadata": {
        "id": "YAEsAuUvJMn6"
      },
      "source": [
        "**Question E3:** Find the mean, mode and median of the humidity, temperature, P1 and P2 values"
      ]
    },
    {
      "cell_type": "code",
      "execution_count": null,
      "metadata": {
        "id": "14T6jzZ_JMn6",
        "tags": [],
        "outputId": "ab0c2f87-fef1-469b-f1ac-173322bf7206"
      },
      "outputs": [
        {
          "name": "stdout",
          "output_type": "stream",
          "text": [
            "Temperature\n",
            "Mean =  22.35287548855388 Median =  22.0 Standard Deviation =  7.218686624924859\n",
            "Humidity\n",
            "Mean =  64.31109249953471 Median =  61.0 Standard Deviation =  22.407697062564335\n",
            "P1\n",
            "Mean =  28.508605451669922 Median =  20.0 Standard Deviation =  33.69146836187376\n",
            "P2\n",
            "Mean =  11.30142338822216 Median =  8.0 Standard Deviation =  11.865466667566917\n"
          ]
        }
      ],
      "source": [
        "mu_temp = df_temperature['value'].mean()\n",
        "med_temp = df_temperature['value'].median()\n",
        "sd_temp = df_temperature['value'].std()\n",
        "print(\"Temperature\")\n",
        "print(\"Mean = \",mu_temp, \"Median = \", med_temp, \"Standard Deviation = \", sd_temp)\n",
        "\n",
        "mu_humidity = df_humidity['value'].mean()\n",
        "med_humidity = df_humidity['value'].median()\n",
        "sd_humidity = df_humidity['value'].std()\n",
        "print(\"Humidity\")\n",
        "print(\"Mean = \",mu_humidity, \"Median = \", med_humidity, \"Standard Deviation = \", sd_humidity)\n",
        "\n",
        "mu_P1 = df_P1['value'].mean()\n",
        "med_P1 = df_P1['value'].median()\n",
        "sd_P1 = df_P1['value'].std()\n",
        "print(\"P1\")\n",
        "print(\"Mean = \",mu_P1, \"Median = \", med_P1, \"Standard Deviation = \", sd_P1)\n",
        "\n",
        "mu_P2 = df_P2['value'].mean()\n",
        "med_P2 = df_P2['value'].median()\n",
        "sd_P2 = df_P2['value'].std()\n",
        "print(\"P2\")\n",
        "print(\"Mean = \",mu_P2, \"Median = \", med_P2, \"Standard Deviation = \", sd_P2)\n"
      ]
    },
    {
      "cell_type": "code",
      "execution_count": null,
      "metadata": {
        "id": "gskhI9VsvvxY"
      },
      "outputs": [],
      "source": [
        "df_temperature.rename(columns={'value':'value_temperature'},inplace=True)\n",
        "df_humidity.rename(columns={'value':'value_humidity'},inplace=True)\n",
        "df_P1.rename(columns={'value':'value_P1'},inplace=True)\n",
        "df_P2.rename(columns={'value':'value_P2'},inplace=True)"
      ]
    },
    {
      "cell_type": "markdown",
      "metadata": {
        "id": "EKWBykh-JMn6"
      },
      "source": [
        "**Question E4:** Merge the grouped dataframes into one dataframe and save it as newdata.csv"
      ]
    },
    {
      "cell_type": "code",
      "execution_count": null,
      "metadata": {
        "id": "4mQSIPfhJMn6",
        "tags": [],
        "outputId": "91d6cc00-416a-432b-a6e6-3aa67965d6b6"
      },
      "outputs": [
        {
          "name": "stdout",
          "output_type": "stream",
          "text": [
            "                             timestamp   value_type  value_temperature  \\\n",
            "0     2023-02-04 04:22:51.323124+00:00  temperature               12.0   \n",
            "1     2023-02-04 04:25:32.354784+00:00  temperature               11.0   \n",
            "2     2023-02-04 04:28:12.716734+00:00  temperature               12.0   \n",
            "3     2023-02-04 04:30:52.437513+00:00  temperature               12.0   \n",
            "4     2023-02-04 04:33:32.677578+00:00  temperature               12.0   \n",
            "...                                ...          ...                ...   \n",
            "42985 2023-02-24 07:43:55.409324+00:00           P2                NaN   \n",
            "42986 2023-02-24 07:46:35.195110+00:00           P2                NaN   \n",
            "42987 2023-02-24 07:49:15.757782+00:00           P2                NaN   \n",
            "42988 2023-02-24 07:51:55.687147+00:00           P2                NaN   \n",
            "42989 2023-02-24 07:54:35.530545+00:00           P2                NaN   \n",
            "\n",
            "                  timestamp_new  value_humidity  value_P1  value_P2  \n",
            "0     2023-02-04 04:22:51+00:00             NaN       NaN       NaN  \n",
            "1     2023-02-04 04:25:32+00:00             NaN       NaN       NaN  \n",
            "2     2023-02-04 04:28:13+00:00             NaN       NaN       NaN  \n",
            "3     2023-02-04 04:30:52+00:00             NaN       NaN       NaN  \n",
            "4     2023-02-04 04:33:33+00:00             NaN       NaN       NaN  \n",
            "...                         ...             ...       ...       ...  \n",
            "42985 2023-02-24 07:43:55+00:00             NaN       NaN       0.0  \n",
            "42986 2023-02-24 07:46:35+00:00             NaN       NaN       7.0  \n",
            "42987 2023-02-24 07:49:16+00:00             NaN       NaN       1.0  \n",
            "42988 2023-02-24 07:51:56+00:00             NaN       NaN       0.0  \n",
            "42989 2023-02-24 07:54:36+00:00             NaN       NaN       0.0  \n",
            "\n",
            "[42990 rows x 7 columns]\n"
          ]
        }
      ],
      "source": [
        "a=pd.merge(df_temperature,df_humidity,how='outer')\n",
        "b=pd.merge(df_P1,df_P2,how='outer')\n",
        "df_merged=pd.merge(a,b,how='outer')\n",
        "\n",
        "print(df_merged)\n",
        "\n",
        "from pathlib import Path  \n",
        "filepath = Path('newdata.csv')  \n",
        "filepath.parent.mkdir(parents=True, exist_ok=True)  \n",
        "df_merged.to_csv(filepath)  "
      ]
    },
    {
      "cell_type": "markdown",
      "metadata": {
        "id": "PNLVvAvbJMn6"
      },
      "source": [
        "**Question E5:** Open the new data file and select only 'timestamp_new','value_temperature','value_humidity','value_P1' and 'value_P2' collunms"
      ]
    },
    {
      "cell_type": "code",
      "execution_count": null,
      "metadata": {
        "id": "4fyxaLq2JMn6",
        "tags": [],
        "outputId": "44626ebb-7a39-4d4b-c5a6-bf2f86d9f438"
      },
      "outputs": [
        {
          "data": {
            "text/html": [
              "<div>\n",
              "<style scoped>\n",
              "    .dataframe tbody tr th:only-of-type {\n",
              "        vertical-align: middle;\n",
              "    }\n",
              "\n",
              "    .dataframe tbody tr th {\n",
              "        vertical-align: top;\n",
              "    }\n",
              "\n",
              "    .dataframe thead th {\n",
              "        text-align: right;\n",
              "    }\n",
              "</style>\n",
              "<table border=\"1\" class=\"dataframe\">\n",
              "  <thead>\n",
              "    <tr style=\"text-align: right;\">\n",
              "      <th></th>\n",
              "      <th>value_temperature</th>\n",
              "      <th>timestamp_new</th>\n",
              "      <th>value_humidity</th>\n",
              "      <th>value_P1</th>\n",
              "      <th>value_P2</th>\n",
              "    </tr>\n",
              "  </thead>\n",
              "  <tbody>\n",
              "    <tr>\n",
              "      <th>0</th>\n",
              "      <td>12.0</td>\n",
              "      <td>2023-02-04 04:22:51+00:00</td>\n",
              "      <td>NaN</td>\n",
              "      <td>NaN</td>\n",
              "      <td>NaN</td>\n",
              "    </tr>\n",
              "    <tr>\n",
              "      <th>1</th>\n",
              "      <td>11.0</td>\n",
              "      <td>2023-02-04 04:25:32+00:00</td>\n",
              "      <td>NaN</td>\n",
              "      <td>NaN</td>\n",
              "      <td>NaN</td>\n",
              "    </tr>\n",
              "    <tr>\n",
              "      <th>2</th>\n",
              "      <td>12.0</td>\n",
              "      <td>2023-02-04 04:28:13+00:00</td>\n",
              "      <td>NaN</td>\n",
              "      <td>NaN</td>\n",
              "      <td>NaN</td>\n",
              "    </tr>\n",
              "    <tr>\n",
              "      <th>3</th>\n",
              "      <td>12.0</td>\n",
              "      <td>2023-02-04 04:30:52+00:00</td>\n",
              "      <td>NaN</td>\n",
              "      <td>NaN</td>\n",
              "      <td>NaN</td>\n",
              "    </tr>\n",
              "    <tr>\n",
              "      <th>4</th>\n",
              "      <td>12.0</td>\n",
              "      <td>2023-02-04 04:33:33+00:00</td>\n",
              "      <td>NaN</td>\n",
              "      <td>NaN</td>\n",
              "      <td>NaN</td>\n",
              "    </tr>\n",
              "    <tr>\n",
              "      <th>...</th>\n",
              "      <td>...</td>\n",
              "      <td>...</td>\n",
              "      <td>...</td>\n",
              "      <td>...</td>\n",
              "      <td>...</td>\n",
              "    </tr>\n",
              "    <tr>\n",
              "      <th>42985</th>\n",
              "      <td>NaN</td>\n",
              "      <td>2023-02-24 07:43:55+00:00</td>\n",
              "      <td>NaN</td>\n",
              "      <td>NaN</td>\n",
              "      <td>0.0</td>\n",
              "    </tr>\n",
              "    <tr>\n",
              "      <th>42986</th>\n",
              "      <td>NaN</td>\n",
              "      <td>2023-02-24 07:46:35+00:00</td>\n",
              "      <td>NaN</td>\n",
              "      <td>NaN</td>\n",
              "      <td>7.0</td>\n",
              "    </tr>\n",
              "    <tr>\n",
              "      <th>42987</th>\n",
              "      <td>NaN</td>\n",
              "      <td>2023-02-24 07:49:16+00:00</td>\n",
              "      <td>NaN</td>\n",
              "      <td>NaN</td>\n",
              "      <td>1.0</td>\n",
              "    </tr>\n",
              "    <tr>\n",
              "      <th>42988</th>\n",
              "      <td>NaN</td>\n",
              "      <td>2023-02-24 07:51:56+00:00</td>\n",
              "      <td>NaN</td>\n",
              "      <td>NaN</td>\n",
              "      <td>0.0</td>\n",
              "    </tr>\n",
              "    <tr>\n",
              "      <th>42989</th>\n",
              "      <td>NaN</td>\n",
              "      <td>2023-02-24 07:54:36+00:00</td>\n",
              "      <td>NaN</td>\n",
              "      <td>NaN</td>\n",
              "      <td>0.0</td>\n",
              "    </tr>\n",
              "  </tbody>\n",
              "</table>\n",
              "<p>42990 rows × 5 columns</p>\n",
              "</div>"
            ],
            "text/plain": [
              "       value_temperature              timestamp_new  value_humidity  value_P1  \\\n",
              "0                   12.0  2023-02-04 04:22:51+00:00             NaN       NaN   \n",
              "1                   11.0  2023-02-04 04:25:32+00:00             NaN       NaN   \n",
              "2                   12.0  2023-02-04 04:28:13+00:00             NaN       NaN   \n",
              "3                   12.0  2023-02-04 04:30:52+00:00             NaN       NaN   \n",
              "4                   12.0  2023-02-04 04:33:33+00:00             NaN       NaN   \n",
              "...                  ...                        ...             ...       ...   \n",
              "42985                NaN  2023-02-24 07:43:55+00:00             NaN       NaN   \n",
              "42986                NaN  2023-02-24 07:46:35+00:00             NaN       NaN   \n",
              "42987                NaN  2023-02-24 07:49:16+00:00             NaN       NaN   \n",
              "42988                NaN  2023-02-24 07:51:56+00:00             NaN       NaN   \n",
              "42989                NaN  2023-02-24 07:54:36+00:00             NaN       NaN   \n",
              "\n",
              "       value_P2  \n",
              "0           NaN  \n",
              "1           NaN  \n",
              "2           NaN  \n",
              "3           NaN  \n",
              "4           NaN  \n",
              "...         ...  \n",
              "42985       0.0  \n",
              "42986       7.0  \n",
              "42987       1.0  \n",
              "42988       0.0  \n",
              "42989       0.0  \n",
              "\n",
              "[42990 rows x 5 columns]"
            ]
          },
          "execution_count": 170,
          "metadata": {},
          "output_type": "execute_result"
        }
      ],
      "source": [
        "new_df = pd.read_csv('newdata.csv',delimiter=',',usecols=['timestamp_new','value_temperature','value_humidity','value_P1','value_P2'])\n",
        "new_df "
      ]
    },
    {
      "cell_type": "markdown",
      "metadata": {
        "id": "fh5va_ODJMn6"
      },
      "source": [
        "**Question E6:** Replace the missing values in collumns 'value_P1' and 'value_P2' with the mean of the same collumns"
      ]
    },
    {
      "cell_type": "code",
      "execution_count": null,
      "metadata": {
        "id": "RAm29MW0JMn7",
        "tags": [],
        "outputId": "a55f90ce-061d-40b2-e2bb-5f3d5da2bc12"
      },
      "outputs": [
        {
          "data": {
            "text/html": [
              "<div>\n",
              "<style scoped>\n",
              "    .dataframe tbody tr th:only-of-type {\n",
              "        vertical-align: middle;\n",
              "    }\n",
              "\n",
              "    .dataframe tbody tr th {\n",
              "        vertical-align: top;\n",
              "    }\n",
              "\n",
              "    .dataframe thead th {\n",
              "        text-align: right;\n",
              "    }\n",
              "</style>\n",
              "<table border=\"1\" class=\"dataframe\">\n",
              "  <thead>\n",
              "    <tr style=\"text-align: right;\">\n",
              "      <th></th>\n",
              "      <th>value_temperature</th>\n",
              "      <th>timestamp_new</th>\n",
              "      <th>value_humidity</th>\n",
              "      <th>value_P1</th>\n",
              "      <th>value_P2</th>\n",
              "    </tr>\n",
              "  </thead>\n",
              "  <tbody>\n",
              "    <tr>\n",
              "      <th>0</th>\n",
              "      <td>NaN</td>\n",
              "      <td>NaN</td>\n",
              "      <td>NaN</td>\n",
              "      <td>NaN</td>\n",
              "      <td>NaN</td>\n",
              "    </tr>\n",
              "    <tr>\n",
              "      <th>1</th>\n",
              "      <td>NaN</td>\n",
              "      <td>NaN</td>\n",
              "      <td>NaN</td>\n",
              "      <td>NaN</td>\n",
              "      <td>NaN</td>\n",
              "    </tr>\n",
              "    <tr>\n",
              "      <th>2</th>\n",
              "      <td>NaN</td>\n",
              "      <td>NaN</td>\n",
              "      <td>NaN</td>\n",
              "      <td>NaN</td>\n",
              "      <td>NaN</td>\n",
              "    </tr>\n",
              "    <tr>\n",
              "      <th>3</th>\n",
              "      <td>NaN</td>\n",
              "      <td>NaN</td>\n",
              "      <td>NaN</td>\n",
              "      <td>NaN</td>\n",
              "      <td>NaN</td>\n",
              "    </tr>\n",
              "    <tr>\n",
              "      <th>4</th>\n",
              "      <td>NaN</td>\n",
              "      <td>NaN</td>\n",
              "      <td>NaN</td>\n",
              "      <td>NaN</td>\n",
              "      <td>NaN</td>\n",
              "    </tr>\n",
              "    <tr>\n",
              "      <th>...</th>\n",
              "      <td>...</td>\n",
              "      <td>...</td>\n",
              "      <td>...</td>\n",
              "      <td>...</td>\n",
              "      <td>...</td>\n",
              "    </tr>\n",
              "    <tr>\n",
              "      <th>42985</th>\n",
              "      <td>NaN</td>\n",
              "      <td>NaN</td>\n",
              "      <td>NaN</td>\n",
              "      <td>NaN</td>\n",
              "      <td>NaN</td>\n",
              "    </tr>\n",
              "    <tr>\n",
              "      <th>42986</th>\n",
              "      <td>NaN</td>\n",
              "      <td>NaN</td>\n",
              "      <td>NaN</td>\n",
              "      <td>NaN</td>\n",
              "      <td>NaN</td>\n",
              "    </tr>\n",
              "    <tr>\n",
              "      <th>42987</th>\n",
              "      <td>NaN</td>\n",
              "      <td>NaN</td>\n",
              "      <td>NaN</td>\n",
              "      <td>NaN</td>\n",
              "      <td>NaN</td>\n",
              "    </tr>\n",
              "    <tr>\n",
              "      <th>42988</th>\n",
              "      <td>NaN</td>\n",
              "      <td>NaN</td>\n",
              "      <td>NaN</td>\n",
              "      <td>NaN</td>\n",
              "      <td>NaN</td>\n",
              "    </tr>\n",
              "    <tr>\n",
              "      <th>42989</th>\n",
              "      <td>NaN</td>\n",
              "      <td>NaN</td>\n",
              "      <td>NaN</td>\n",
              "      <td>NaN</td>\n",
              "      <td>NaN</td>\n",
              "    </tr>\n",
              "  </tbody>\n",
              "</table>\n",
              "<p>42990 rows × 5 columns</p>\n",
              "</div>"
            ],
            "text/plain": [
              "       value_temperature timestamp_new  value_humidity  value_P1  value_P2\n",
              "0                    NaN           NaN             NaN       NaN       NaN\n",
              "1                    NaN           NaN             NaN       NaN       NaN\n",
              "2                    NaN           NaN             NaN       NaN       NaN\n",
              "3                    NaN           NaN             NaN       NaN       NaN\n",
              "4                    NaN           NaN             NaN       NaN       NaN\n",
              "...                  ...           ...             ...       ...       ...\n",
              "42985                NaN           NaN             NaN       NaN       NaN\n",
              "42986                NaN           NaN             NaN       NaN       NaN\n",
              "42987                NaN           NaN             NaN       NaN       NaN\n",
              "42988                NaN           NaN             NaN       NaN       NaN\n",
              "42989                NaN           NaN             NaN       NaN       NaN\n",
              "\n",
              "[42990 rows x 5 columns]"
            ]
          },
          "execution_count": 173,
          "metadata": {},
          "output_type": "execute_result"
        }
      ],
      "source": [
        "#Check for missing values \n",
        "missing_values = new_df.isna()\n",
        "\n",
        "# displaying data only with NaN\n",
        "new_df[missing_values]"
      ]
    },
    {
      "cell_type": "code",
      "execution_count": null,
      "metadata": {
        "id": "AaCiLremvvxa",
        "outputId": "f4f8e452-79cd-4628-a1a8-459518822366"
      },
      "outputs": [
        {
          "data": {
            "text/html": [
              "<div>\n",
              "<style scoped>\n",
              "    .dataframe tbody tr th:only-of-type {\n",
              "        vertical-align: middle;\n",
              "    }\n",
              "\n",
              "    .dataframe tbody tr th {\n",
              "        vertical-align: top;\n",
              "    }\n",
              "\n",
              "    .dataframe thead th {\n",
              "        text-align: right;\n",
              "    }\n",
              "</style>\n",
              "<table border=\"1\" class=\"dataframe\">\n",
              "  <thead>\n",
              "    <tr style=\"text-align: right;\">\n",
              "      <th></th>\n",
              "      <th>value_temperature</th>\n",
              "      <th>timestamp_new</th>\n",
              "      <th>value_humidity</th>\n",
              "      <th>value_P1</th>\n",
              "      <th>value_P2</th>\n",
              "    </tr>\n",
              "  </thead>\n",
              "  <tbody>\n",
              "    <tr>\n",
              "      <th>0</th>\n",
              "      <td>False</td>\n",
              "      <td>False</td>\n",
              "      <td>True</td>\n",
              "      <td>True</td>\n",
              "      <td>True</td>\n",
              "    </tr>\n",
              "    <tr>\n",
              "      <th>1</th>\n",
              "      <td>False</td>\n",
              "      <td>False</td>\n",
              "      <td>True</td>\n",
              "      <td>True</td>\n",
              "      <td>True</td>\n",
              "    </tr>\n",
              "    <tr>\n",
              "      <th>2</th>\n",
              "      <td>False</td>\n",
              "      <td>False</td>\n",
              "      <td>True</td>\n",
              "      <td>True</td>\n",
              "      <td>True</td>\n",
              "    </tr>\n",
              "    <tr>\n",
              "      <th>3</th>\n",
              "      <td>False</td>\n",
              "      <td>False</td>\n",
              "      <td>True</td>\n",
              "      <td>True</td>\n",
              "      <td>True</td>\n",
              "    </tr>\n",
              "    <tr>\n",
              "      <th>4</th>\n",
              "      <td>False</td>\n",
              "      <td>False</td>\n",
              "      <td>True</td>\n",
              "      <td>True</td>\n",
              "      <td>True</td>\n",
              "    </tr>\n",
              "    <tr>\n",
              "      <th>...</th>\n",
              "      <td>...</td>\n",
              "      <td>...</td>\n",
              "      <td>...</td>\n",
              "      <td>...</td>\n",
              "      <td>...</td>\n",
              "    </tr>\n",
              "    <tr>\n",
              "      <th>42985</th>\n",
              "      <td>True</td>\n",
              "      <td>False</td>\n",
              "      <td>True</td>\n",
              "      <td>True</td>\n",
              "      <td>False</td>\n",
              "    </tr>\n",
              "    <tr>\n",
              "      <th>42986</th>\n",
              "      <td>True</td>\n",
              "      <td>False</td>\n",
              "      <td>True</td>\n",
              "      <td>True</td>\n",
              "      <td>False</td>\n",
              "    </tr>\n",
              "    <tr>\n",
              "      <th>42987</th>\n",
              "      <td>True</td>\n",
              "      <td>False</td>\n",
              "      <td>True</td>\n",
              "      <td>True</td>\n",
              "      <td>False</td>\n",
              "    </tr>\n",
              "    <tr>\n",
              "      <th>42988</th>\n",
              "      <td>True</td>\n",
              "      <td>False</td>\n",
              "      <td>True</td>\n",
              "      <td>True</td>\n",
              "      <td>False</td>\n",
              "    </tr>\n",
              "    <tr>\n",
              "      <th>42989</th>\n",
              "      <td>True</td>\n",
              "      <td>False</td>\n",
              "      <td>True</td>\n",
              "      <td>True</td>\n",
              "      <td>False</td>\n",
              "    </tr>\n",
              "  </tbody>\n",
              "</table>\n",
              "<p>42990 rows × 5 columns</p>\n",
              "</div>"
            ],
            "text/plain": [
              "       value_temperature  timestamp_new  value_humidity  value_P1  value_P2\n",
              "0                  False          False            True      True      True\n",
              "1                  False          False            True      True      True\n",
              "2                  False          False            True      True      True\n",
              "3                  False          False            True      True      True\n",
              "4                  False          False            True      True      True\n",
              "...                  ...            ...             ...       ...       ...\n",
              "42985               True          False            True      True     False\n",
              "42986               True          False            True      True     False\n",
              "42987               True          False            True      True     False\n",
              "42988               True          False            True      True     False\n",
              "42989               True          False            True      True     False\n",
              "\n",
              "[42990 rows x 5 columns]"
            ]
          },
          "execution_count": 172,
          "metadata": {},
          "output_type": "execute_result"
        }
      ],
      "source": [
        "missing_values"
      ]
    },
    {
      "cell_type": "code",
      "execution_count": null,
      "metadata": {
        "id": "JJ2zFruYJMn7",
        "tags": [],
        "outputId": "d0e9e9ee-3fe0-492c-dfde-b5584cde42a3"
      },
      "outputs": [
        {
          "name": "stdout",
          "output_type": "stream",
          "text": [
            "The mean of P1 11.301423388224533\n",
            "The mean of P2 28.508605451654844\n"
          ]
        },
        {
          "data": {
            "text/html": [
              "<div>\n",
              "<style scoped>\n",
              "    .dataframe tbody tr th:only-of-type {\n",
              "        vertical-align: middle;\n",
              "    }\n",
              "\n",
              "    .dataframe tbody tr th {\n",
              "        vertical-align: top;\n",
              "    }\n",
              "\n",
              "    .dataframe thead th {\n",
              "        text-align: right;\n",
              "    }\n",
              "</style>\n",
              "<table border=\"1\" class=\"dataframe\">\n",
              "  <thead>\n",
              "    <tr style=\"text-align: right;\">\n",
              "      <th></th>\n",
              "      <th>value_temperature</th>\n",
              "      <th>timestamp_new</th>\n",
              "      <th>value_humidity</th>\n",
              "      <th>value_P1</th>\n",
              "      <th>value_P2</th>\n",
              "    </tr>\n",
              "  </thead>\n",
              "  <tbody>\n",
              "    <tr>\n",
              "      <th>0</th>\n",
              "      <td>12.000000</td>\n",
              "      <td>2023-02-04 04:22:51+00:00</td>\n",
              "      <td>64.311092</td>\n",
              "      <td>28.508605</td>\n",
              "      <td>11.301423</td>\n",
              "    </tr>\n",
              "    <tr>\n",
              "      <th>1</th>\n",
              "      <td>11.000000</td>\n",
              "      <td>2023-02-04 04:25:32+00:00</td>\n",
              "      <td>64.311092</td>\n",
              "      <td>28.508605</td>\n",
              "      <td>11.301423</td>\n",
              "    </tr>\n",
              "    <tr>\n",
              "      <th>2</th>\n",
              "      <td>12.000000</td>\n",
              "      <td>2023-02-04 04:28:13+00:00</td>\n",
              "      <td>64.311092</td>\n",
              "      <td>28.508605</td>\n",
              "      <td>11.301423</td>\n",
              "    </tr>\n",
              "    <tr>\n",
              "      <th>3</th>\n",
              "      <td>12.000000</td>\n",
              "      <td>2023-02-04 04:30:52+00:00</td>\n",
              "      <td>64.311092</td>\n",
              "      <td>28.508605</td>\n",
              "      <td>11.301423</td>\n",
              "    </tr>\n",
              "    <tr>\n",
              "      <th>4</th>\n",
              "      <td>12.000000</td>\n",
              "      <td>2023-02-04 04:33:33+00:00</td>\n",
              "      <td>64.311092</td>\n",
              "      <td>28.508605</td>\n",
              "      <td>11.301423</td>\n",
              "    </tr>\n",
              "    <tr>\n",
              "      <th>...</th>\n",
              "      <td>...</td>\n",
              "      <td>...</td>\n",
              "      <td>...</td>\n",
              "      <td>...</td>\n",
              "      <td>...</td>\n",
              "    </tr>\n",
              "    <tr>\n",
              "      <th>42985</th>\n",
              "      <td>22.352875</td>\n",
              "      <td>2023-02-24 07:43:55+00:00</td>\n",
              "      <td>64.311092</td>\n",
              "      <td>28.508605</td>\n",
              "      <td>0.000000</td>\n",
              "    </tr>\n",
              "    <tr>\n",
              "      <th>42986</th>\n",
              "      <td>22.352875</td>\n",
              "      <td>2023-02-24 07:46:35+00:00</td>\n",
              "      <td>64.311092</td>\n",
              "      <td>28.508605</td>\n",
              "      <td>7.000000</td>\n",
              "    </tr>\n",
              "    <tr>\n",
              "      <th>42987</th>\n",
              "      <td>22.352875</td>\n",
              "      <td>2023-02-24 07:49:16+00:00</td>\n",
              "      <td>64.311092</td>\n",
              "      <td>28.508605</td>\n",
              "      <td>1.000000</td>\n",
              "    </tr>\n",
              "    <tr>\n",
              "      <th>42988</th>\n",
              "      <td>22.352875</td>\n",
              "      <td>2023-02-24 07:51:56+00:00</td>\n",
              "      <td>64.311092</td>\n",
              "      <td>28.508605</td>\n",
              "      <td>0.000000</td>\n",
              "    </tr>\n",
              "    <tr>\n",
              "      <th>42989</th>\n",
              "      <td>22.352875</td>\n",
              "      <td>2023-02-24 07:54:36+00:00</td>\n",
              "      <td>64.311092</td>\n",
              "      <td>28.508605</td>\n",
              "      <td>0.000000</td>\n",
              "    </tr>\n",
              "  </tbody>\n",
              "</table>\n",
              "<p>42990 rows × 5 columns</p>\n",
              "</div>"
            ],
            "text/plain": [
              "       value_temperature              timestamp_new  value_humidity  \\\n",
              "0              12.000000  2023-02-04 04:22:51+00:00       64.311092   \n",
              "1              11.000000  2023-02-04 04:25:32+00:00       64.311092   \n",
              "2              12.000000  2023-02-04 04:28:13+00:00       64.311092   \n",
              "3              12.000000  2023-02-04 04:30:52+00:00       64.311092   \n",
              "4              12.000000  2023-02-04 04:33:33+00:00       64.311092   \n",
              "...                  ...                        ...             ...   \n",
              "42985          22.352875  2023-02-24 07:43:55+00:00       64.311092   \n",
              "42986          22.352875  2023-02-24 07:46:35+00:00       64.311092   \n",
              "42987          22.352875  2023-02-24 07:49:16+00:00       64.311092   \n",
              "42988          22.352875  2023-02-24 07:51:56+00:00       64.311092   \n",
              "42989          22.352875  2023-02-24 07:54:36+00:00       64.311092   \n",
              "\n",
              "        value_P1   value_P2  \n",
              "0      28.508605  11.301423  \n",
              "1      28.508605  11.301423  \n",
              "2      28.508605  11.301423  \n",
              "3      28.508605  11.301423  \n",
              "4      28.508605  11.301423  \n",
              "...          ...        ...  \n",
              "42985  28.508605   0.000000  \n",
              "42986  28.508605   7.000000  \n",
              "42987  28.508605   1.000000  \n",
              "42988  28.508605   0.000000  \n",
              "42989  28.508605   0.000000  \n",
              "\n",
              "[42990 rows x 5 columns]"
            ]
          },
          "execution_count": 179,
          "metadata": {},
          "output_type": "execute_result"
        }
      ],
      "source": [
        "print(\"The mean of P1\",new_df['value_P2'].mean())\n",
        "print(\"The mean of P2\",new_df['value_P1'].mean())\n",
        "\n",
        "#replace missing values with the mean \n",
        "new_df['value_P1'].fillna(new_df['value_P1'].mean(),inplace=True)\n",
        "new_df['value_P2'].fillna(new_df['value_P2'].mean(),inplace=True)\n",
        "new_df['value_temperature'].fillna(new_df['value_temperature'].mean(),inplace=True)\n",
        "new_df['value_humidity'].fillna(new_df['value_humidity'].mean(),inplace=True)\n",
        "\n",
        "\n",
        "new_df"
      ]
    },
    {
      "cell_type": "markdown",
      "metadata": {
        "id": "syjHmz-AJMn7"
      },
      "source": [
        "**Question E7:** Compute the correlations between temperature and humidity; P1 and P2 "
      ]
    },
    {
      "cell_type": "code",
      "execution_count": null,
      "metadata": {
        "id": "7Q80rz1Wvvxb",
        "outputId": "377053e5-6ac4-4b57-a89a-840c9fd39f96"
      },
      "outputs": [
        {
          "data": {
            "text/plain": [
              "value_temperature   -6.043110e-18\n",
              "Name: value_humidity, dtype: float64"
            ]
          },
          "execution_count": 195,
          "metadata": {},
          "output_type": "execute_result"
        }
      ],
      "source": [
        "corr_temp_hum=new_df[['value_temperature','value_humidity']].corr().iloc[1,0:1]\n",
        "corr_temp_hum"
      ]
    },
    {
      "cell_type": "code",
      "execution_count": null,
      "metadata": {
        "id": "DBBkxrEzvvxb",
        "outputId": "b7776ab0-d878-47d3-ce7c-5583d794b7db"
      },
      "outputs": [
        {
          "data": {
            "text/plain": [
              "array([-6.04310996e-18])"
            ]
          },
          "execution_count": 203,
          "metadata": {},
          "output_type": "execute_result"
        }
      ],
      "source": [
        "new_df[['value_temperature','value_humidity']]"
      ]
    },
    {
      "cell_type": "code",
      "execution_count": null,
      "metadata": {
        "id": "agvSVKsEJMn7",
        "tags": [],
        "outputId": "d68ef596-b2dc-4f2f-9dc2-d49f9d5e064f"
      },
      "outputs": [
        {
          "name": "stdout",
          "output_type": "stream",
          "text": [
            "Correlation between temparature and humidity [-6.04310996e-18]\n",
            "Correlation between P1 and P2 [-4.72547053e-19]\n"
          ]
        }
      ],
      "source": [
        "#Correlation between temperature and humidity\n",
        "corr_temp_hum=new_df[['value_temperature','value_humidity']].corr().values[1,0:1]\n",
        "\n",
        "print (\"Correlation between temparature and humidity\",corr_temp_hum)\n",
        "\n",
        "#Correlation between P1 and P2\n",
        "corr_p1_p2=new_df[['value_P1','value_P2']].corr().values[1,0:1]\n",
        "\n",
        "print (\"Correlation between P1 and P2\",corr_p1_p2)"
      ]
    }
  ],
  "metadata": {
    "colab": {
      "provenance": []
    },
    "kernelspec": {
      "display_name": "Python 3 (ipykernel)",
      "language": "python",
      "name": "python3"
    },
    "language_info": {
      "codemirror_mode": {
        "name": "ipython",
        "version": 3
      },
      "file_extension": ".py",
      "mimetype": "text/x-python",
      "name": "python",
      "nbconvert_exporter": "python",
      "pygments_lexer": "ipython3",
      "version": "3.9.13"
    },
    "otter": {
      "OK_FORMAT": true,
      "tests": {
        "q1": {
          "name": "q1",
          "points": 2,
          "suites": [
            {
              "cases": [
                {
                  "code": ">>> # BEGIN TEST CONFIG\n>>> points: 2\n>>> # END TEST CONFIG\n>>> def test_primes(sieve):\n...     assert sieve(30) == ((2, 3, 5, 7, 11, 13, 17, 19, 23, 29), (4, 6, 8, 9, 10, 12, 14, 15, 16, 18, 20, 21, 22, 24, 25, 26, 27, 28, 30))\n>>> test_primes(sieve)  \n",
                  "hidden": false,
                  "locked": false
                }
              ],
              "scored": true,
              "setup": "",
              "teardown": "",
              "type": "doctest"
            }
          ]
        },
        "q2": {
          "name": "q2",
          "points": null,
          "suites": [
            {
              "cases": [
                {
                  "code": ">>> # BEGIN TEST CONFIG\n>>> points: 2\n>>> # END TEST CONFIG\n>>> def test_dictionary(Counter):\n...     assert Counter(paragraph) == {' ': 192, 'e': 89, 'o': 68, 't': 65, 'i': 60, 's': 57, 'a': 48, 'r': 45, 'n': 42, 'l': 35, 'c': 31, 'd': 27, 'f': 26, 'u': 26, '0': 22, 'm': 20, 'y': 19, 'h': 17, 'w': 16, 'g': 14, '3': 13, '.': 12, 'p': 11, 'b': 11, '1': 11, '2': 10, '7': 10, 'k': 9, ',': 7, '4': 5, 'v': 4, '-': 4, '*': 4, '^': 4, 'T': 3, 'x': 3, '5': 3, '6': 3, '8': 3, '’': 3, '(': 3, ')': 3, 'q': 3, 'O': 3, ':': 2, '9': 2, 'S': 2, 'A': 2, '{': 2, '}': 2, '`': 2, 'I': 1, 'V': 1, 'F': 1, '[': 1, ']': 1, 'W': 1, '<': 1, 'N': 1, '>': 1, '“': 1, '”': 1, '‘': 1, 'E': 1, '/': 1, '\\\\': 1}\n",
                  "hidden": false,
                  "locked": false
                }
              ],
              "scored": true,
              "setup": "",
              "teardown": "",
              "type": "doctest"
            }
          ]
        },
        "q3": {
          "name": "q3",
          "points": null,
          "suites": [
            {
              "cases": [
                {
                  "code": ">>> # BEGIN TEST CONFIG\n>>> points: 2\n>>> # END TEST CONFIG\n>>> def test_keyslist():\n...     assert list(dictionary.keys()) == ['T', 'h', 'e', ' ', 'f', 'o', 'l', 'w', 'i', 'n', 'g', 's', 'a', 'm', 'p', 't', 'x', 'I', 'u', 'd', 'r', 'c', 'k', 'y', 'b', '.', ':', '1', '2', '3', '4', '5', '6', '7', '8', '9', 'S', 'V', '’', '0', ',', '(', ')', 'q', 'A', 'v', 'F', '-', '{', '}', 'O', '[', ']', 'W', '<', 'N', '>', '`', '*', '^', '“', '”', '‘', 'E', '/', '\\\\']\n>>> test_keyslist() \n",
                  "hidden": false,
                  "locked": false
                }
              ],
              "scored": true,
              "setup": "",
              "teardown": "",
              "type": "doctest"
            }
          ]
        },
        "q4": {
          "name": "q4",
          "points": null,
          "suites": [
            {
              "cases": [
                {
                  "code": ">>> # BEGIN TEST CONFIG\n>>> points: 2\n>>> # END TEST CONFIG\n>>> def test_valueslist():\n...     assert list(dictionary.values()) == [3, 17, 89, 192, 26, 68, 35, 16, 60, 42, 14, 57, 48, 20, 11, 65, 3, 1, 26, 27, 45, 31, 9, 19, 11, 12, 2, 11, 10, 13, 5, 3, 3, 10, 3, 2, 2, 1, 3, 22, 7, 3, 3, 3, 2, 4, 1, 4, 2, 2, 3, 1, 1, 1, 1, 1, 1, 2, 4, 4, 1, 1, 1, 1, 1, 1]\n",
                  "hidden": false,
                  "locked": false
                }
              ],
              "scored": true,
              "setup": "",
              "teardown": "",
              "type": "doctest"
            }
          ]
        },
        "q5": {
          "name": "q5",
          "points": null,
          "suites": [
            {
              "cases": [
                {
                  "code": ">>> # BEGIN TEST CONFIG\n>>> points: 2\n>>> # END TEST CONFIG\n>>> def test_tuple():\n...     assert final_tuple == (('T', 'h', 'e', ' ', 'f', 'o', 'l', 'w', 'i', 'n', 'g', 's', 'a', 'm', 'p', 't', 'x', 'I', 'u', 'd', 'r', 'c', 'k', 'y', 'b', '.', ':', '1', '2', '3', '4', '5', '6', '7', '8', '9', 'S', 'V', '’', '0', ',', '(', ')', 'q', 'A', 'v', 'F', '-', '{', '}', 'O', '[', ']', 'W', '<', 'N', '>', '`', '*', '^', '“', '”', '‘', 'E', '/', '\\\\'), (3, 17, 89, 192, 26, 68, 35, 16, 60, 42, 14, 57, 48, 20, 11, 65, 3, 1, 26, 27, 45, 31, 9, 19, 11, 12, 2, 11, 10, 13, 5, 3, 3, 10, 3, 2, 2, 1, 3, 22, 7, 3, 3, 3, 2, 4, 1, 4, 2, 2, 3, 1, 1, 1, 1, 1, 1, 2, 4, 4, 1, 1, 1, 1, 1, 1))\n>>> test_tuple() \n",
                  "hidden": false,
                  "locked": false
                }
              ],
              "scored": true,
              "setup": "",
              "teardown": "",
              "type": "doctest"
            }
          ]
        },
        "q6": {
          "name": "q6",
          "points": 10,
          "suites": [
            {
              "cases": [
                {
                  "code": ">>> assert_equal(greatest_common_divisor(10, 15), 5)\n",
                  "hidden": false,
                  "locked": false
                }
              ],
              "scored": true,
              "setup": "",
              "teardown": "",
              "type": "doctest"
            }
          ]
        },
        "q7": {
          "name": "q7",
          "points": 10,
          "suites": [
            {
              "cases": [
                {
                  "code": ">>> assert_equal(get_nearest_farthest((3, 8), [(9, 3), (8,5), (7,6)]), ((7, 6), (9, 3)))\n",
                  "hidden": false,
                  "locked": false
                }
              ],
              "scored": true,
              "setup": "",
              "teardown": "",
              "type": "doctest"
            }
          ]
        },
        "q8": {
          "name": "q8",
          "points": 5,
          "suites": [
            {
              "cases": [
                {
                  "code": ">>> assert_equal(perfectly_divisible(10,2), [0,2,4,6,8,10])\n",
                  "hidden": false,
                  "locked": false
                }
              ],
              "scored": true,
              "setup": "",
              "teardown": "",
              "type": "doctest"
            }
          ]
        },
        "q9": {
          "name": "q9",
          "points": 4,
          "suites": [
            {
              "cases": [
                {
                  "code": ">>> assert_equal(flatten_lists([[2,13,44], [6,7]]), [2, 6, 7, 13, 44])\n",
                  "hidden": false,
                  "locked": false
                }
              ],
              "scored": true,
              "setup": "",
              "teardown": "",
              "type": "doctest"
            }
          ]
        }
      }
    },
    "varInspector": {
      "cols": {
        "lenName": 16,
        "lenType": 16,
        "lenVar": 40
      },
      "kernels_config": {
        "python": {
          "delete_cmd_postfix": "",
          "delete_cmd_prefix": "del ",
          "library": "var_list.py",
          "varRefreshCmd": "print(var_dic_list())"
        },
        "r": {
          "delete_cmd_postfix": ") ",
          "delete_cmd_prefix": "rm(",
          "library": "var_list.r",
          "varRefreshCmd": "cat(var_dic_list()) "
        }
      },
      "types_to_exclude": [
        "module",
        "function",
        "builtin_function_or_method",
        "instance",
        "_Feature"
      ],
      "window_display": false
    }
  },
  "nbformat": 4,
  "nbformat_minor": 0
}